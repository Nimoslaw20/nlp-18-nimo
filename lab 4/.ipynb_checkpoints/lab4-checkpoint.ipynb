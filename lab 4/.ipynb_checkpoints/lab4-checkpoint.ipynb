{
 "cells": [
  {
   "cell_type": "code",
   "execution_count": 21,
   "metadata": {},
   "outputs": [],
   "source": [
    "#importing libraries\n",
    "\n",
    "import pandas as pd\n",
    "import numpy as np\n",
    "import nltk\n",
    "from nltk.corpus import stopwords\n",
    "from sklearn.feature_extraction.text import TfidfVectorizer\n",
    "from sklearn.model_selection import train_test_split\n",
    "from  sklearn import naive_bayes as nb\n",
    "from sklearn.metrics import roc_auc_score\n",
    "import argparse"
   ]
  },
  {
   "cell_type": "code",
   "execution_count": 22,
   "metadata": {},
   "outputs": [
    {
     "data": {
      "text/html": [
       "<div>\n",
       "<style scoped>\n",
       "    .dataframe tbody tr th:only-of-type {\n",
       "        vertical-align: middle;\n",
       "    }\n",
       "\n",
       "    .dataframe tbody tr th {\n",
       "        vertical-align: top;\n",
       "    }\n",
       "\n",
       "    .dataframe thead th {\n",
       "        text-align: right;\n",
       "    }\n",
       "</style>\n",
       "<table border=\"1\" class=\"dataframe\">\n",
       "  <thead>\n",
       "    <tr style=\"text-align: right;\">\n",
       "      <th></th>\n",
       "      <th>docs</th>\n",
       "      <th>class</th>\n",
       "    </tr>\n",
       "  </thead>\n",
       "  <tbody>\n",
       "    <tr>\n",
       "      <th>0</th>\n",
       "      <td>I like the book</td>\n",
       "      <td>NaN</td>\n",
       "    </tr>\n",
       "    <tr>\n",
       "      <th>1</th>\n",
       "      <td>i dont like mangoes</td>\n",
       "      <td>NaN</td>\n",
       "    </tr>\n",
       "    <tr>\n",
       "      <th>2</th>\n",
       "      <td>I love her</td>\n",
       "      <td>NaN</td>\n",
       "    </tr>\n",
       "  </tbody>\n",
       "</table>\n",
       "</div>"
      ],
      "text/plain": [
       "                  docs  class\n",
       "0      I like the book    NaN\n",
       "1  i dont like mangoes    NaN\n",
       "2           I love her    NaN"
      ]
     },
     "execution_count": 22,
     "metadata": {},
     "output_type": "execute_result"
    }
   ],
   "source": [
    "filename = \"nimo.txt\"\n",
    "def  new_testfile(filename):              #taking new files for testing\n",
    "    newfile = pd.read_csv(filename, sep=\"\\t\", names=[\"docs\", \"class\"])\n",
    "    return newfile\n",
    "new_testfile(filename)"
   ]
  },
  {
   "cell_type": "code",
   "execution_count": 23,
   "metadata": {},
   "outputs": [
    {
     "data": {
      "text/plain": [
       "['I like the book\\n', 'i dont like mangoes\\n', 'I love her']"
      ]
     },
     "execution_count": 23,
     "metadata": {},
     "output_type": "execute_result"
    }
   ],
   "source": [
    "new_testfile(filename)\n",
    "def readtestfile(filename):           # processing test file\n",
    "    data = []\n",
    "    f = open(filename, 'r')\n",
    "    for line in f:\n",
    "        data.append(line)\n",
    "\n",
    "    return data\n",
    "\n",
    "readtestfile(filename)"
   ]
  },
  {
   "cell_type": "code",
   "execution_count": 26,
   "metadata": {},
   "outputs": [
    {
     "ename": "NameError",
     "evalue": "name 'data' is not defined",
     "output_type": "error",
     "traceback": [
      "\u001b[1;31m---------------------------------------------------------------------------\u001b[0m",
      "\u001b[1;31mNameError\u001b[0m                                 Traceback (most recent call last)",
      "\u001b[1;32m<ipython-input-26-163c93b7b9ce>\u001b[0m in \u001b[0;36m<module>\u001b[1;34m()\u001b[0m\n\u001b[0;32m      1\u001b[0m \u001b[0mnew_testfile\u001b[0m\u001b[1;33m(\u001b[0m\u001b[0mfilename\u001b[0m\u001b[1;33m)\u001b[0m\u001b[1;33m\u001b[0m\u001b[0m\n\u001b[1;32m----> 2\u001b[1;33m \u001b[0mreadtestfile\u001b[0m\u001b[1;33m(\u001b[0m\u001b[0mdata\u001b[0m\u001b[1;33m)\u001b[0m\u001b[1;33m\u001b[0m\u001b[0m\n\u001b[0m\u001b[0;32m      3\u001b[0m \u001b[1;33m\u001b[0m\u001b[0m\n\u001b[0;32m      4\u001b[0m \u001b[1;32mdef\u001b[0m \u001b[0mNBnormalized\u001b[0m\u001b[1;33m(\u001b[0m\u001b[0mnewfile\u001b[0m\u001b[1;33m)\u001b[0m\u001b[1;33m:\u001b[0m\u001b[1;33m\u001b[0m\u001b[0m\n\u001b[0;32m      5\u001b[0m     \u001b[1;31m#using given training files\u001b[0m\u001b[1;33m\u001b[0m\u001b[1;33m\u001b[0m\u001b[0m\n",
      "\u001b[1;31mNameError\u001b[0m: name 'data' is not defined"
     ]
    }
   ],
   "source": [
    "new_testfile(filename)\n",
    "readtestfile(data)\n",
    "\n",
    "def NBnormalized(newfile):\n",
    "    #using given training files\n",
    "    filename1 = \"amazon_cells_labelled.txt\"\n",
    "    filename2 = \"amazon_cells_labelled.txt\"\n",
    "    filename3 = \"yelp_labelled.txt\"\n",
    "    df1 = pd.read_csv(filename1, sep=\"\\t\", names=[\"docs\", \"class\"]) \n",
    "    df2 = pd.read_csv(filename2, sep=\"\\t\", names=[\"docs\", \"class\"])\n",
    "    df3 = pd.read_csv(filename3, sep=\"\\t\", names=[\"docs\", \"class\"])\n",
    "    folder = pd.concat([df1, df2, df3], axis= 0, join='inner') \n",
    "\n",
    "   #normalizing the training data using stopwords and vectorizer\n",
    "    n = set(stopwords.words(\"english\")) \n",
    "    Vectwords =  TfidfVectorizer(use_idf= True, lowercase=True, strip_accents=\"ascii\", stop_words=n)\n",
    "    y = folder['class']\n",
    "    x = Vectwords.fit_transform(folder.docs)\n",
    "\n",
    "    #training the data using Multinomial Naive Bayes\n",
    "    x_train, x_test, y_train, y_test = train_test_split(x, y, random_state=40)\n",
    "    clf = nb.MultinomialNB()\n",
    "    clf.fit(x_train, y_train)\n",
    "    roc_auc_score(y_test, clf.predict_proba(x_test)[:,1])\n",
    "\n",
    "    \n",
    "    #Predicting the class and writing into the result file\n",
    "    classifier =np.array(newfile)\n",
    "    classifier_vect = Vectwords.transform(classifier)\n",
    "    pre = clf.predict(classifier_vect)\n",
    "    print(pre)\n",
    "    file = open(\"results-nb-n.txt\",\"a\")\n",
    "    for i  in pre:\n",
    "        print(i)\n",
    "        file.write(str(i) + \"\\n\")\n",
    "    file.close() \n",
    "    \n"
   ]
  },
  {
   "cell_type": "code",
   "execution_count": 10,
   "metadata": {},
   "outputs": [],
   "source": [
    "def NBunnormalized(newfile):\n",
    "    #using given training files\n",
    "    filename1 = \"amazon_cells_labelled.txt\"\n",
    "    filename2 = \"amazon_cells_labelled.txt\"\n",
    "    filename3 = \"yelp_labelled.txt\"\n",
    "    df1 = pd.read_csv(filename1, sep=\"\\t\", names=[\"docs\", \"class\"]) \n",
    "    df2 = pd.read_csv(filename2, sep=\"\\t\", names=[\"docs\", \"class\"])\n",
    "    df3 = pd.read_csv(filename3, sep=\"\\t\", names=[\"docs\", \"class\"])\n",
    "    folder = pd.concat([df1, df2, df3], axis= 0, join='inner') \n",
    "\n",
    "    #Without normalization, no stopwords.\n",
    "    Vectwords =  TfidfVectorizer(use_idf= False, lowercase=False, strip_accents=\"ascii\")\n",
    "    y = folder['class']\n",
    "    x = Vectwords.fit_transform(folder.docs)\n",
    "\n",
    "\n",
    "   #Training data using Naive Bayes Multinomial\n",
    "    x_train, x_test, y_train, y_test = train_test_split(x, y, random_state=40)\n",
    "    clf = nb.MultinomialNB()\n",
    "    clf.fit(x_train, y_train)\n",
    "    roc_auc_score(y_test, clf.predict_proba(x_test)[:,1])\n",
    "    \n",
    "    #Predicting the class and writing into the result file\n",
    "    classifier =np.array(newfile)\n",
    "    classifier_vect = Vectwords.transform(classifier)\n",
    "    pre = clf.predict(classifier_vect)\n",
    "    print(pre)\n",
    "\n",
    "    file = open(\"results-nb-u.txt\",\"a\")\n",
    "    for i  in pre:\n",
    "        print(i)\n",
    "        file.write(str(i) + \"\\n\")\n",
    "    file.close() \n",
    "    "
   ]
  },
  {
   "cell_type": "code",
   "execution_count": null,
   "metadata": {},
   "outputs": [],
   "source": []
  },
  {
   "cell_type": "code",
   "execution_count": null,
   "metadata": {},
   "outputs": [],
   "source": []
  }
 ],
 "metadata": {
  "kernelspec": {
   "display_name": "Python 3",
   "language": "python",
   "name": "python3"
  },
  "language_info": {
   "codemirror_mode": {
    "name": "ipython",
    "version": 3
   },
   "file_extension": ".py",
   "mimetype": "text/x-python",
   "name": "python",
   "nbconvert_exporter": "python",
   "pygments_lexer": "ipython3",
   "version": "3.6.5"
  }
 },
 "nbformat": 4,
 "nbformat_minor": 2
}
