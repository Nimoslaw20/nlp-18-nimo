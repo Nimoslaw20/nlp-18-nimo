{
 "cells": [
  {
   "cell_type": "code",
   "execution_count": 5,
   "metadata": {},
   "outputs": [],
   "source": [
    "#importing libraries\n",
    "\n",
    "import pandas as pd\n",
    "import numpy as np\n",
    "import nltk\n",
    "from nltk.corpus import stopwords\n",
    "from sklearn.feature_extraction.text import TfidfVectorizer\n",
    "from sklearn.model_selection import train_test_split\n",
    "from sklearn.linear_model import LogisticRegression\n",
    "from sklearn.metrics import roc_auc_score\n",
    "import argparse"
   ]
  },
  {
   "cell_type": "code",
   "execution_count": 7,
   "metadata": {},
   "outputs": [
    {
     "data": {
      "text/html": [
       "<div>\n",
       "<style scoped>\n",
       "    .dataframe tbody tr th:only-of-type {\n",
       "        vertical-align: middle;\n",
       "    }\n",
       "\n",
       "    .dataframe tbody tr th {\n",
       "        vertical-align: top;\n",
       "    }\n",
       "\n",
       "    .dataframe thead th {\n",
       "        text-align: right;\n",
       "    }\n",
       "</style>\n",
       "<table border=\"1\" class=\"dataframe\">\n",
       "  <thead>\n",
       "    <tr style=\"text-align: right;\">\n",
       "      <th></th>\n",
       "      <th>docs</th>\n",
       "      <th>class</th>\n",
       "    </tr>\n",
       "  </thead>\n",
       "  <tbody>\n",
       "    <tr>\n",
       "      <th>0</th>\n",
       "      <td>I like the book</td>\n",
       "      <td>NaN</td>\n",
       "    </tr>\n",
       "    <tr>\n",
       "      <th>1</th>\n",
       "      <td>i dont like mangoes</td>\n",
       "      <td>NaN</td>\n",
       "    </tr>\n",
       "    <tr>\n",
       "      <th>2</th>\n",
       "      <td>I love her</td>\n",
       "      <td>NaN</td>\n",
       "    </tr>\n",
       "  </tbody>\n",
       "</table>\n",
       "</div>"
      ],
      "text/plain": [
       "                  docs  class\n",
       "0      I like the book    NaN\n",
       "1  i dont like mangoes    NaN\n",
       "2           I love her    NaN"
      ]
     },
     "execution_count": 7,
     "metadata": {},
     "output_type": "execute_result"
    }
   ],
   "source": [
    "# function for reading a new file for testing \n",
    "filename =\"nimo.txt\"\n",
    "def  new_testfile(filename):\n",
    "    newfile = pd.read_csv(filename, sep=\"\\t\", names=[\"docs\", \"class\"])\n",
    "    return newfile\n",
    "\n",
    "new_testfile(filename)\n"
   ]
  },
  {
   "cell_type": "code",
   "execution_count": 8,
   "metadata": {},
   "outputs": [
    {
     "data": {
      "text/plain": [
       "['I like the book\\n', 'i dont like mangoes\\n', 'I love her']"
      ]
     },
     "execution_count": 8,
     "metadata": {},
     "output_type": "execute_result"
    }
   ],
   "source": [
    "#Breaking the read file into list\n",
    "def readtestfile(filename):\n",
    "    data = []\n",
    "    f = open(filename, 'r')\n",
    "    for line in f:\n",
    "        data.append(line)\n",
    "\n",
    "    return data\n",
    "readtestfile(filename)"
   ]
  },
  {
   "cell_type": "code",
   "execution_count": 3,
   "metadata": {},
   "outputs": [],
   "source": [
    "#Logistic regression with normalization\n",
    "def LGnormalized(newfile):\n",
    "    #Reading train files\n",
    "    filename1 = \"amazon_cells_labelled.txt\"\n",
    "    filename2 = \"amazon_cells_labelled.txt\"\n",
    "    filename3 = \"yelp_labelled.txt\"\n",
    "    df1 = pd.read_csv(filename1, sep=\"\\t\", names=[\"docs\", \"class\"]) \n",
    "    df2 = pd.read_csv(filename2, sep=\"\\t\", names=[\"docs\", \"class\"])\n",
    "    df3 = pd.read_csv(filename3, sep=\"\\t\", names=[\"docs\", \"class\"])\n",
    "    folder = pd.concat([df1, df2, df3], axis= 0, join='inner') \n",
    "\n",
    "    #Normalization with stopwords\n",
    "    n = set(stopwords.words(\"english\")) \n",
    "    Vectwords =  TfidfVectorizer(use_idf= True, lowercase=True, strip_accents=\"ascii\", stop_words=n)\n",
    "    y = folder['class']\n",
    "    x = Vectwords.fit_transform(folder.docs)\n",
    "\n",
    "    #Training data given all three files\n",
    "    x_train, x_test, y_train, y_test = train_test_split(x, y, random_state=40)\n",
    "    clf = LogisticRegression()\n",
    "    clf.fit(x_train, y_train)\n",
    "\n",
    "    #Testing the given file and outputing result file\n",
    "    classifier =np.array(newfile)\n",
    "    classifier_vect = Vectwords.transform(classifier)\n",
    "    pre = clf.predict(classifier_vect)\n",
    "    score = clf.score(x_test, y_test)\n",
    "    print(score)\n",
    "    print(pre)\n",
    "    file = open(\"results-lr-n.txt\",\"a\")\n",
    "    for i  in pre:\n",
    "        print(i)\n",
    "        file.write(str(i) + \"\\n\")\n",
    "    file.close() \n",
    "    \n",
    "    \n"
   ]
  },
  {
   "cell_type": "code",
   "execution_count": 4,
   "metadata": {},
   "outputs": [],
   "source": [
    "def LGunnormalized(newfile):\n",
    "    #reading file\n",
    "    filename = \"amazon_cells_labelled.txt\"\n",
    "    folder = pd.read_csv(filename, sep=\"\\t\", names=[\"docs\", \"class\"]) \n",
    "    \n",
    "\n",
    "    #Logistic regression without normalization\n",
    "    Vectwords =  TfidfVectorizer(use_idf= False, lowercase=False, strip_accents=\"ascii\")\n",
    "    y = folder['class']\n",
    "    x = Vectwords.fit_transform(folder.docs)\n",
    "\n",
    "    #Training data\n",
    "    x_train, x_test, y_train, y_test = train_test_split(x, y, random_state=40)\n",
    "\n",
    "    \n",
    "    clf = LogisticRegression()\n",
    "    clf.fit(x_train, y_train)\n",
    "    \n",
    "    #testing the given file using the logistic regression classifer\n",
    "    classifier =np.array(newfile)\n",
    "    classifier_vect = Vectwords.transform(classifier)\n",
    "    pre = clf.predict(classifier_vect)\n",
    "    print(pre)\n",
    "\n",
    "    file = open(\"results-lr-u.txt\",\"a\")\n",
    "    for i  in pre:\n",
    "        print(i)\n",
    "        file.write(str(i) + \"\\n\")\n",
    "    file.close() \n",
    "    "
   ]
  },
  {
   "cell_type": "code",
   "execution_count": null,
   "metadata": {},
   "outputs": [],
   "source": []
  }
 ],
 "metadata": {
  "kernelspec": {
   "display_name": "Python 3",
   "language": "python",
   "name": "python3"
  },
  "language_info": {
   "codemirror_mode": {
    "name": "ipython",
    "version": 3
   },
   "file_extension": ".py",
   "mimetype": "text/x-python",
   "name": "python",
   "nbconvert_exporter": "python",
   "pygments_lexer": "ipython3",
   "version": "3.6.5"
  }
 },
 "nbformat": 4,
 "nbformat_minor": 2
}
